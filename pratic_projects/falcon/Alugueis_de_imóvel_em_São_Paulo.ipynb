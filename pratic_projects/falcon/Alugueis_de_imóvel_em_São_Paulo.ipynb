{
  "metadata": {
    "kernelspec": {
      "language": "python",
      "display_name": "Python 3",
      "name": "python3"
    },
    "language_info": {
      "name": "python",
      "version": "3.11.11",
      "mimetype": "text/x-python",
      "codemirror_mode": {
        "name": "ipython",
        "version": 3
      },
      "pygments_lexer": "ipython3",
      "nbconvert_exporter": "python",
      "file_extension": ".py"
    },
    "kaggle": {
      "accelerator": "none",
      "dataSources": [
        {
          "sourceId": 5579165,
          "sourceType": "datasetVersion",
          "datasetId": 3211119
        }
      ],
      "dockerImageVersionId": 31040,
      "isInternetEnabled": true,
      "language": "python",
      "sourceType": "notebook",
      "isGpuEnabled": false
    },
    "colab": {
      "name": "Alugueis de imóvel em São Paulo",
      "provenance": []
    }
  },
  "nbformat_minor": 0,
  "nbformat": 4,
  "cells": [
    {
      "source": [
        "# IMPORTANT: RUN THIS CELL IN ORDER TO IMPORT YOUR KAGGLE DATA SOURCES,\n",
        "# THEN FEEL FREE TO DELETE THIS CELL.\n",
        "# NOTE: THIS NOTEBOOK ENVIRONMENT DIFFERS FROM KAGGLE'S PYTHON\n",
        "# ENVIRONMENT SO THERE MAY BE MISSING LIBRARIES USED BY YOUR\n",
        "# NOTEBOOK.\n",
        "import kagglehub\n",
        "renatosn_sao_paulo_housing_prices_path = kagglehub.dataset_download('renatosn/sao-paulo-housing-prices')\n",
        "\n",
        "print('Data source import complete.')\n"
      ],
      "metadata": {
        "id": "rScSeB3uY3rZ"
      },
      "cell_type": "code",
      "outputs": [],
      "execution_count": null
    },
    {
      "cell_type": "markdown",
      "source": [
        "# Análise Diagnóstica do preço do aluguel em São Paulo"
      ],
      "metadata": {
        "id": "JWmWo54nY3rb"
      }
    },
    {
      "cell_type": "markdown",
      "source": [
        "**setup inicial**"
      ],
      "metadata": {
        "id": "XlW50s6XY3rc"
      }
    },
    {
      "cell_type": "code",
      "source": [
        "# This Python 3 environment comes with many helpful analytics libraries installed\n",
        "# It is defined by the kaggle/python Docker image: https://github.com/kaggle/docker-python\n",
        "# For example, here's several helpful packages to load\n",
        "\n",
        "import numpy as np # linear algebra\n",
        "import pandas as pd # data processing, CSV file I/O (e.g. pd.read_csv)\n",
        "import seaborn as sns\n",
        "\n",
        "# Input data files are available in the read-only \"../input/\" directory\n",
        "# For example, running this (by clicking run or pressing Shift+Enter) will list all files under the input directory\n",
        "\n",
        "import os\n",
        "for dirname, _, filenames in os.walk('/kaggle/input'):\n",
        "    for filename in filenames:\n",
        "        print(os.path.join(dirname, filename))\n",
        "\n",
        "# You can write up to 20GB to the current directory (/kaggle/working/) that gets preserved as output when you create a version using \"Save & Run All\"\n",
        "# You can also write temporary files to /kaggle/temp/, but they won't be saved outside of the current session\n",
        "\n"
      ],
      "metadata": {
        "_uuid": "8f2839f25d086af736a60e9eeb907d3b93b6e0e5",
        "_cell_guid": "b1076dfc-b9ad-4769-8c92-a6c4dae69d19",
        "trusted": true,
        "execution": {
          "iopub.status.busy": "2025-06-06T16:06:45.809546Z",
          "iopub.execute_input": "2025-06-06T16:06:45.809841Z",
          "iopub.status.idle": "2025-06-06T16:06:45.824617Z",
          "shell.execute_reply.started": "2025-06-06T16:06:45.809821Z",
          "shell.execute_reply": "2025-06-06T16:06:45.823513Z"
        },
        "id": "OLjo2OaNY3rc"
      },
      "outputs": [],
      "execution_count": null
    },
    {
      "cell_type": "markdown",
      "source": [
        "# Explorando o Dataset\n",
        "Aqui vou analisar o dataset usando pandas"
      ],
      "metadata": {
        "id": "sOMaLKo8Y3rc"
      }
    },
    {
      "cell_type": "markdown",
      "source": [
        "**Primeiro vou ler o csv e verificar as linhas e colunas**"
      ],
      "metadata": {
        "id": "uKJMx900Y3rd"
      }
    },
    {
      "cell_type": "code",
      "source": [
        "df = pd.read_csv('/kaggle/input/sao-paulo-housing-prices/data.csv')\n",
        "print(df.shape)\n",
        "print(\"\\n\")\n",
        "print(df.columns)"
      ],
      "metadata": {
        "trusted": true,
        "execution": {
          "iopub.status.busy": "2025-06-06T16:06:45.826208Z",
          "iopub.execute_input": "2025-06-06T16:06:45.826531Z",
          "iopub.status.idle": "2025-06-06T16:06:45.85907Z",
          "shell.execute_reply.started": "2025-06-06T16:06:45.826504Z",
          "shell.execute_reply": "2025-06-06T16:06:45.858017Z"
        },
        "id": "xs2CCYlCY3rd"
      },
      "outputs": [],
      "execution_count": null
    },
    {
      "cell_type": "markdown",
      "source": [
        "**vendo o formato do df**"
      ],
      "metadata": {
        "id": "E2LWQuCsY3rd"
      }
    },
    {
      "cell_type": "code",
      "source": [
        "df.head()"
      ],
      "metadata": {
        "trusted": true,
        "execution": {
          "iopub.status.busy": "2025-06-06T16:06:45.860136Z",
          "iopub.execute_input": "2025-06-06T16:06:45.860564Z",
          "iopub.status.idle": "2025-06-06T16:06:45.872462Z",
          "shell.execute_reply.started": "2025-06-06T16:06:45.86054Z",
          "shell.execute_reply": "2025-06-06T16:06:45.871493Z"
        },
        "id": "Xf-L4iWEY3rd"
      },
      "outputs": [],
      "execution_count": null
    },
    {
      "cell_type": "markdown",
      "source": [
        "**uma descrição estatística**"
      ],
      "metadata": {
        "id": "SGHXpR6jY3re"
      }
    },
    {
      "cell_type": "code",
      "source": [
        "df.describe(include = 'all')"
      ],
      "metadata": {
        "trusted": true,
        "execution": {
          "iopub.status.busy": "2025-06-06T16:06:45.873522Z",
          "iopub.execute_input": "2025-06-06T16:06:45.87378Z",
          "iopub.status.idle": "2025-06-06T16:06:45.930537Z",
          "shell.execute_reply.started": "2025-06-06T16:06:45.873759Z",
          "shell.execute_reply": "2025-06-06T16:06:45.929518Z"
        },
        "id": "LzTS86o9Y3re"
      },
      "outputs": [],
      "execution_count": null
    },
    {
      "cell_type": "markdown",
      "source": [
        "# Analisando o describe:\n",
        "\n",
        "\n",
        "* Os 4 tipos são: kitnet, apartamento, casa_em_condominio e casa.\n",
        "* Média consideravelmente maior que a mediana e valores extremos no max de área, rent e total indicam uma distribuição com cauda a direita, portanto será necessário cuidar desses outliers.\n",
        "* 0 não pode ser o mínimo de área (bedroom e garage podem).\n"
      ],
      "metadata": {
        "id": "r1POobbUY3re"
      }
    },
    {
      "cell_type": "markdown",
      "source": [
        "quanto aos outliers será necessário:\n",
        "* um limite inferior por regra de negócio para area\n",
        "* limites superiores para area, bedrooms, garage e rent. Evitando, portanto a inclusão de imóveis de luxo."
      ],
      "metadata": {
        "id": "LTht-JnlY3re"
      }
    },
    {
      "cell_type": "markdown",
      "source": [
        "# Manipulação do dataset\n",
        "Será feita uma verificação e transformação do dataset para que possamos proseguir para a próxima etapa."
      ],
      "metadata": {
        "id": "sq7OOICEY3re"
      }
    },
    {
      "cell_type": "markdown",
      "source": [
        "Abaixo vou verificar os **tipos de valores** e se há algum **valor nulo** ou **infinito** no dataset (mesmo que seja improvável). Vou verificar também por **duplicatas**."
      ],
      "metadata": {
        "id": "sPcrzWG3Y3re"
      }
    },
    {
      "cell_type": "code",
      "source": [
        "print(df.info())  # tipos de dados + contagem de não nulos\n",
        "print('\\n')\n",
        "print(df.isnull().sum())  # quantidade de valores ausentes por coluna\n",
        "print('\\n')\n",
        "print(\"Tem infinitos?\", np.isinf(df.select_dtypes(include=[np.number])).values.sum() > 0) # possui inf ou -inf?\n",
        "print('\\n')\n",
        "print(\"Possui \",df.duplicated().sum(),\" Duplicatas\") #verificando se os dados estão sem duplicatas"
      ],
      "metadata": {
        "trusted": true,
        "execution": {
          "iopub.status.busy": "2025-06-06T16:06:45.932809Z",
          "iopub.execute_input": "2025-06-06T16:06:45.933082Z",
          "iopub.status.idle": "2025-06-06T16:06:45.958145Z",
          "shell.execute_reply.started": "2025-06-06T16:06:45.933059Z",
          "shell.execute_reply": "2025-06-06T16:06:45.956932Z"
        },
        "id": "kc_Oj7zSY3re"
      },
      "outputs": [],
      "execution_count": null
    },
    {
      "cell_type": "markdown",
      "source": [
        "**Tratamento de Outliers**"
      ],
      "metadata": {
        "id": "dHSXZA51Y3re"
      }
    },
    {
      "cell_type": "markdown",
      "source": [
        "removendo outliers por regra de negócio:"
      ],
      "metadata": {
        "id": "Ye9i84erY3re"
      }
    },
    {
      "cell_type": "code",
      "source": [
        "# Para 'area'\n",
        "limite_inferior_area = 30\n",
        "limite_superior_area = 150\n",
        "print(limite_inferior_area)\n",
        "print(limite_superior_area)\n",
        "\n",
        "# Para 'bedroom'\n",
        "limite_inferior_bedrooms = 0\n",
        "limite_superior_bedrooms = 4\n",
        "print(limite_inferior_bedrooms)\n",
        "print(limite_superior_bedrooms)\n",
        "\n",
        "# Para 'garage'\n",
        "limite_inferior_garage = 0\n",
        "limite_superior_garage = 2\n",
        "print(limite_inferior_garage)\n",
        "print(limite_superior_garage)\n",
        "\n",
        "# Para 'total'\n",
        "limite_inferior_total = 1000\n",
        "limite_superior_total = 8000\n",
        "print(limite_inferior_total)\n",
        "print(limite_superior_total)\n",
        "\n",
        "df_limpo = df[\n",
        "    (df['area'] >= limite_inferior_area) & (df['area'] <= limite_superior_area) &\n",
        "    (df['garage'] >= limite_inferior_garage) & (df['garage'] <= limite_superior_garage) &\n",
        "    (df['bedrooms'] >= limite_inferior_bedrooms) & (df['bedrooms'] <= limite_superior_bedrooms) &\n",
        "    (df['total'] >= limite_inferior_total) & (df['total'] <= limite_superior_total)\n",
        "]\n",
        "\n",
        "\n",
        "print(f\"Antes: {df.shape[0]} linhas\")\n",
        "print(f\"Removidas: {df.shape[0] - df_limpo.shape[0]} linhas\")\n",
        "print(f\"Depois: {df_limpo.shape[0]} linhas\")"
      ],
      "metadata": {
        "trusted": true,
        "execution": {
          "iopub.status.busy": "2025-06-06T16:06:45.959209Z",
          "iopub.execute_input": "2025-06-06T16:06:45.959591Z",
          "iopub.status.idle": "2025-06-06T16:06:45.976699Z",
          "shell.execute_reply.started": "2025-06-06T16:06:45.95956Z",
          "shell.execute_reply": "2025-06-06T16:06:45.97557Z"
        },
        "id": "8bvWZX5PY3rf"
      },
      "outputs": [],
      "execution_count": null
    },
    {
      "cell_type": "markdown",
      "source": [
        "removendo 'rent' pois o valor que nos importa é 'total'"
      ],
      "metadata": {
        "id": "BN7NgzHdY3rf"
      }
    },
    {
      "cell_type": "code",
      "source": [
        "df_limpo = df_limpo.drop(columns = 'rent')\n"
      ],
      "metadata": {
        "trusted": true,
        "execution": {
          "iopub.status.busy": "2025-06-06T16:06:45.977585Z",
          "iopub.execute_input": "2025-06-06T16:06:45.977814Z",
          "iopub.status.idle": "2025-06-06T16:06:45.996077Z",
          "shell.execute_reply.started": "2025-06-06T16:06:45.977791Z",
          "shell.execute_reply": "2025-06-06T16:06:45.994821Z"
        },
        "id": "3Cb_bTA9Y3rf"
      },
      "outputs": [],
      "execution_count": null
    },
    {
      "cell_type": "markdown",
      "source": [
        "Verificando novamente as estatísticas descritivas"
      ],
      "metadata": {
        "id": "Fs3OiOhEY3rf"
      }
    },
    {
      "cell_type": "code",
      "source": [
        "df_limpo.shape"
      ],
      "metadata": {
        "trusted": true,
        "execution": {
          "iopub.status.busy": "2025-06-06T16:06:45.99692Z",
          "iopub.execute_input": "2025-06-06T16:06:45.997205Z",
          "iopub.status.idle": "2025-06-06T16:06:46.020996Z",
          "shell.execute_reply.started": "2025-06-06T16:06:45.997184Z",
          "shell.execute_reply": "2025-06-06T16:06:46.019609Z"
        },
        "id": "bImsWD9wY3rf"
      },
      "outputs": [],
      "execution_count": null
    },
    {
      "cell_type": "code",
      "source": [
        "df_limpo.describe(include = 'all')"
      ],
      "metadata": {
        "trusted": true,
        "execution": {
          "iopub.status.busy": "2025-06-06T16:06:46.022073Z",
          "iopub.execute_input": "2025-06-06T16:06:46.022379Z",
          "iopub.status.idle": "2025-06-06T16:06:46.069626Z",
          "shell.execute_reply.started": "2025-06-06T16:06:46.022348Z",
          "shell.execute_reply": "2025-06-06T16:06:46.068434Z"
        },
        "id": "n-8BrbVzY3rf"
      },
      "outputs": [],
      "execution_count": null
    },
    {
      "cell_type": "markdown",
      "source": [
        "visualizando o formato novamente"
      ],
      "metadata": {
        "id": "ZqzyohgsY3rf"
      }
    },
    {
      "cell_type": "code",
      "source": [
        "df_limpo.head()"
      ],
      "metadata": {
        "trusted": true,
        "execution": {
          "iopub.status.busy": "2025-06-06T16:06:46.072506Z",
          "iopub.execute_input": "2025-06-06T16:06:46.072787Z",
          "iopub.status.idle": "2025-06-06T16:06:46.084228Z",
          "shell.execute_reply.started": "2025-06-06T16:06:46.072764Z",
          "shell.execute_reply": "2025-06-06T16:06:46.083034Z"
        },
        "id": "3XK7nGU7Y3rf"
      },
      "outputs": [],
      "execution_count": null
    },
    {
      "cell_type": "markdown",
      "source": [
        "# Enriquecimento dos dados"
      ],
      "metadata": {
        "id": "yXLwPapQY3rf"
      }
    },
    {
      "cell_type": "markdown",
      "source": [
        "* o total será substituido pelo preço por metro quadrado.\n",
        "\n",
        "* o type será transformado com one-hot encoding para analisar cada tipo separadamente.\n",
        "\n",
        "* o distric e address vão ser usados para categorização por preço médio da região e vou criar rótulos com 5 categorias sendo 0 áreas com a média do m² barata e 5 as mais caras.\n"
      ],
      "metadata": {
        "id": "Ge_tQQ0qY3rf"
      }
    },
    {
      "cell_type": "code",
      "source": [
        "#reformulação do total\n",
        "df_limpo.total = round(df_limpo.total / df_limpo.area, 2)\n",
        "df_limpo.rename(columns={'total': 'cost/m²'}, inplace = 'true')"
      ],
      "metadata": {
        "trusted": true,
        "execution": {
          "iopub.status.busy": "2025-06-06T16:06:46.085602Z",
          "iopub.execute_input": "2025-06-06T16:06:46.085887Z",
          "iopub.status.idle": "2025-06-06T16:06:46.103748Z",
          "shell.execute_reply.started": "2025-06-06T16:06:46.085857Z",
          "shell.execute_reply": "2025-06-06T16:06:46.102801Z"
        },
        "id": "JWQXNFJIY3rf"
      },
      "outputs": [],
      "execution_count": null
    },
    {
      "cell_type": "code",
      "source": [
        "df_limpo = pd.get_dummies(df_limpo, columns=['type'])\n",
        "\n",
        "boolean_columns = ['type_Apartamento','type_Casa','type_Casa em condomínio','type_Studio e kitnet']\n",
        "\n",
        "# Converter as colunas para int\n",
        "for col in boolean_columns:\n",
        "    df_limpo[col] = df_limpo[col].astype(int)\n"
      ],
      "metadata": {
        "trusted": true,
        "execution": {
          "iopub.status.busy": "2025-06-06T16:06:46.10505Z",
          "iopub.execute_input": "2025-06-06T16:06:46.105617Z",
          "iopub.status.idle": "2025-06-06T16:06:46.134833Z",
          "shell.execute_reply.started": "2025-06-06T16:06:46.105591Z",
          "shell.execute_reply": "2025-06-06T16:06:46.133391Z"
        },
        "id": "sQZkW-DJY3rg"
      },
      "outputs": [],
      "execution_count": null
    },
    {
      "cell_type": "code",
      "source": [
        "media_por_endereço = df_limpo.groupby('address')['cost/m²'].mean().reset_index()\n",
        "media_por_endereço.columns = ['address', 'avg_price_per_m2']\n",
        "media_por_endereço['valor_regiao'] = pd.cut(media_por_endereço['avg_price_per_m2'],bins=5,labels=[0,1,2,3,4],\n",
        "include_lowest=True)\n",
        "df_limpo = df_limpo.merge(media_por_endereço[['address', 'valor_regiao']], on='address', how='left')\n",
        "df_limpo = df_limpo.drop(columns = ['address', 'district'])\n",
        "df_limpo['valor_regiao'] = df_limpo['valor_regiao'].astype(int)\n",
        "\n",
        "df_limpo.head()"
      ],
      "metadata": {
        "trusted": true,
        "execution": {
          "iopub.status.busy": "2025-06-06T16:06:46.135995Z",
          "iopub.execute_input": "2025-06-06T16:06:46.136243Z",
          "iopub.status.idle": "2025-06-06T16:06:46.186858Z",
          "shell.execute_reply.started": "2025-06-06T16:06:46.136224Z",
          "shell.execute_reply": "2025-06-06T16:06:46.185759Z"
        },
        "id": "UGEVaQ55Y3rg"
      },
      "outputs": [],
      "execution_count": null
    },
    {
      "cell_type": "markdown",
      "source": [
        "# Análise exploratória dos dados limpos"
      ],
      "metadata": {
        "id": "9SfZ7b2ZY3rg"
      }
    },
    {
      "cell_type": "markdown",
      "source": [
        "gráficos para EDA"
      ],
      "metadata": {
        "id": "kBNim9MaY3rg"
      }
    },
    {
      "cell_type": "code",
      "source": [
        "import matplotlib.pyplot as plt\n",
        "df_limpo['cost/m²'].hist(bins=100)\n",
        "plt.title(\"Distribuição de preços\")\n",
        "plt.xlabel(\"R$/m²\")\n",
        "plt.ylabel(\"Quantidade de imóveis\")\n",
        "plt.show()\n",
        "\n",
        "df_limpo['area'].hist(bins=10)\n",
        "plt.title(\"Distribuição de area\")\n",
        "plt.xlabel(\"m²\")\n",
        "plt.ylabel(\"Quantidade de imóveis\")\n",
        "plt.show()\n",
        "\n",
        "# Configurar tamanho do gráfico\n",
        "plt.figure(figsize=(14, 6))\n",
        "\n",
        "# Criar boxplot\n",
        "sns.boxplot(data=df_limpo, x='valor_regiao', y='cost/m²')\n",
        "\n",
        "# Melhorar legibilidade\n",
        "plt.xticks(rotation=90)\n",
        "plt.title('Distribuição do Preço por classificação de região')\n",
        "plt.ylabel('R$/m²')\n",
        "plt.xlabel('valor_regiao')\n",
        "plt.tight_layout()\n",
        "plt.show()\n",
        "\n",
        "sns.boxplot(data=df_limpo, x='type_Apartamento', y='cost/m²')\n",
        "\n",
        "plt.xticks(rotation=90)\n",
        "plt.title('Distribuição do Preço por tipo')\n",
        "plt.ylabel('R$/m²')\n",
        "plt.xlabel('Apartamento')\n",
        "plt.tight_layout()\n",
        "plt.show()\n",
        "\n",
        "sns.boxplot(data=df_limpo, x='type_Casa', y='cost/m²')\n",
        "\n",
        "plt.xticks(rotation=90)\n",
        "plt.title('Distribuição do Preço por tipo')\n",
        "plt.ylabel('R$/m²')\n",
        "plt.xlabel('Casa')\n",
        "plt.tight_layout()\n",
        "plt.show()\n",
        "\n",
        "sns.boxplot(data=df_limpo, x='type_Casa em condomínio', y='cost/m²')\n",
        "\n",
        "plt.xticks(rotation=90)\n",
        "plt.title('Distribuição do Preço por tipo')\n",
        "plt.ylabel('R$/m²')\n",
        "plt.xlabel('Casa em condomínio')\n",
        "plt.tight_layout()\n",
        "plt.show()\n",
        "\n",
        "sns.boxplot(data=df_limpo, x='type_Studio e kitnet', y='cost/m²')\n",
        "\n",
        "plt.xticks(rotation=90)\n",
        "plt.title('Distribuição do Preço por tipo')\n",
        "plt.ylabel('R$/m²')\n",
        "plt.xlabel('Studio e kitnet')\n",
        "plt.tight_layout()\n",
        "plt.show()\n",
        "\n",
        "sns.scatterplot(data=df_limpo, x='area', y='cost/m²', s=10)\n",
        "plt.show()\n",
        "\n",
        "sns.heatmap(df_limpo.corr())\n",
        "print(df_limpo.corr())"
      ],
      "metadata": {
        "trusted": true,
        "execution": {
          "iopub.status.busy": "2025-06-06T16:09:59.304011Z",
          "iopub.execute_input": "2025-06-06T16:09:59.304404Z",
          "iopub.status.idle": "2025-06-06T16:10:01.615849Z",
          "shell.execute_reply.started": "2025-06-06T16:09:59.304379Z",
          "shell.execute_reply": "2025-06-06T16:10:01.614646Z"
        },
        "id": "uONDlZxOY3rg"
      },
      "outputs": [],
      "execution_count": null
    },
    {
      "cell_type": "code",
      "source": [
        "df_limpo.describe()\n"
      ],
      "metadata": {
        "trusted": true,
        "execution": {
          "iopub.status.busy": "2025-06-06T16:06:48.136757Z",
          "iopub.execute_input": "2025-06-06T16:06:48.137105Z",
          "iopub.status.idle": "2025-06-06T16:06:48.17224Z",
          "shell.execute_reply.started": "2025-06-06T16:06:48.137075Z",
          "shell.execute_reply": "2025-06-06T16:06:48.170996Z"
        },
        "id": "Oqe1X6I-Y3rg"
      },
      "outputs": [],
      "execution_count": null
    },
    {
      "cell_type": "markdown",
      "source": [
        "Hipóteses a serem testadas em ordem de influência:\n",
        "* o valor da região é o fator mais determinante pois se relaciona com a criminalidade, proximidade de comércio entre outros fatores derivados da geolocalização.\n",
        "* o preço por metro quadrado é inversamente proporcional a area.\n",
        "* quanto mais quartos menos costuma de pagar por metro quadrado\n",
        "* quanto mais garagens mais caro costuma se pagar por metro quadrado\n",
        "\n",
        "A classificação do tipo de imóvel perde sua relevância aqui já que na análise gráfica já entendemos suas distribuições e em critério de determinancia as outras features são mais relevantes."
      ],
      "metadata": {
        "id": "0UcXL9gQY3rg"
      }
    },
    {
      "cell_type": "markdown",
      "source": [
        "# Modelagem Diagnóstica"
      ],
      "metadata": {
        "id": "x_LWfrudY3rg"
      }
    },
    {
      "cell_type": "markdown",
      "source": [
        "Aqui aplico machine learning (random forest regressor) para testar as hipóteses feitas com base na análise exploratória e portanto \"minerar\" os dados, descobrindo as features mais relevantes.\n",
        "Não utilizei o type como feature pois após um teste determinei que ele não é um fator de grande relevância.\n",
        "Talvez com outras features derivadas da localização, como proximidade do metro, criminalidade ou mesmo classificação de pagar ou não pagar condomínio uma análise mais rica pudesse ser feita."
      ],
      "metadata": {
        "id": "-9RUlRvYY3rg"
      }
    },
    {
      "cell_type": "markdown",
      "source": [
        "Separando as features da predição e fazendo o split do dataset entre treino e teste."
      ],
      "metadata": {
        "id": "t7EnpiXuY3rg"
      }
    },
    {
      "cell_type": "code",
      "source": [
        "from sklearn.model_selection import train_test_split\n",
        "X = df_limpo[['area', 'bedrooms', 'garage', 'valor_regiao']]\n",
        "Y = df_limpo[['cost/m²']]\n",
        "X_train, X_test, Y_train, Y_test = train_test_split(X, Y, random_state=1)"
      ],
      "metadata": {
        "trusted": true,
        "execution": {
          "iopub.status.busy": "2025-06-06T16:45:59.214313Z",
          "iopub.execute_input": "2025-06-06T16:45:59.215389Z",
          "iopub.status.idle": "2025-06-06T16:45:59.227228Z",
          "shell.execute_reply.started": "2025-06-06T16:45:59.215351Z",
          "shell.execute_reply": "2025-06-06T16:45:59.22623Z"
        },
        "id": "Ecn-dY8SY3rj"
      },
      "outputs": [],
      "execution_count": null
    },
    {
      "cell_type": "markdown",
      "source": [
        "aplicando e avaliando o modelo random forest regressor"
      ],
      "metadata": {
        "id": "XejjmOFtY3rj"
      }
    },
    {
      "cell_type": "code",
      "source": [
        "from sklearn.ensemble import RandomForestRegressor\n",
        "from sklearn.metrics import mean_squared_error, r2_score\n",
        "\n",
        "\n",
        "rf_model = RandomForestRegressor(n_estimators=100, random_state=42, n_jobs=-1)\n",
        "rf_model.fit(X_train, Y_train)\n",
        "y_pred_rf = rf_model.predict(X_test)\n",
        "\n",
        "mse_rf = mean_squared_error(Y_test, y_pred_rf)\n",
        "rmse_rf = np.sqrt(mse_rf)\n",
        "r2_rf = r2_score(Y_test, y_pred_rf)\n",
        "\n",
        "print(\"\\n--- RandomForestRegressor ---\")\n",
        "print(f\"MSE: {mse_rf:.2f}\")\n",
        "print(f\"RMSE: {rmse_rf:.2f}\")\n",
        "print(f\"R²: {r2_rf:.2f}\")\n",
        "print('\\n')\n",
        "\n",
        "# Interpretabilidade: Feature Importance\n",
        "print(\"Importância das Features (Random Forest):\")\n",
        "feature_importances = pd.Series(rf_model.feature_importances_, index=X_train.columns).sort_values(ascending=False)\n",
        "print(feature_importances)"
      ],
      "metadata": {
        "trusted": true,
        "execution": {
          "iopub.status.busy": "2025-06-06T16:54:12.327759Z",
          "iopub.execute_input": "2025-06-06T16:54:12.328455Z",
          "iopub.status.idle": "2025-06-06T16:54:12.801711Z",
          "shell.execute_reply.started": "2025-06-06T16:54:12.328429Z",
          "shell.execute_reply": "2025-06-06T16:54:12.800819Z"
        },
        "id": "hGNb16LbY3rj"
      },
      "outputs": [],
      "execution_count": null
    },
    {
      "cell_type": "markdown",
      "source": [
        "# Exportando os dados\n",
        "exportando os dados pós mineração para elaborar um dashboard e uma apresentação clara sobre os dados em relação ao negócio (mercado imobiliário de aluguel em São Paulo).\n",
        "O objetivo é responder quais, como, e porque (com análise de BI), os fatores mais determinantes no preço do m²/mês em São Paulo, realizando assim uma análise diagnostica que pode ser usada para predição e prescrição em outros casos."
      ],
      "metadata": {
        "id": "4Of7D3caY3rj"
      }
    },
    {
      "cell_type": "code",
      "source": [
        "df_limpo.to_csv('dados_tratados.csv', index=False, encoding='utf-8-sig')"
      ],
      "metadata": {
        "trusted": true,
        "execution": {
          "iopub.status.busy": "2025-06-06T16:06:48.789537Z",
          "iopub.execute_input": "2025-06-06T16:06:48.78979Z",
          "iopub.status.idle": "2025-06-06T16:06:48.823746Z",
          "shell.execute_reply.started": "2025-06-06T16:06:48.789772Z",
          "shell.execute_reply": "2025-06-06T16:06:48.822574Z"
        },
        "id": "swqdY4YwY3rj"
      },
      "outputs": [],
      "execution_count": null
    },
    {
      "cell_type": "markdown",
      "source": [
        "# Comentários finais\n",
        "Pontos a melhorar:\n",
        "* integração direta do código com a base (quinto andar) usando o webscrapping, ao invés da base do kaggle, melhorando a confiabilidade com dados em tempo real.\n",
        "* feature enginnering relativo ao tipo de imóvel e principalmente a localização, o que só seria possível com uma coleta mais rica.\n",
        "\n",
        "Insights:\n",
        "Todo o processo de dados tem como objetivo extrair conhecimento e enriquecer a sabedoria de negócio, mas para isso cada etapa é crucial, é necessário muita cautela e revisões para garantir um fluxo de trabalho o mais linear possível evitando retomadas para etapas anteriores.\n",
        "Além disso, o processo de dados sempre pode ter seu valor aumentado.\n",
        "Quanto mais próxima da arquitetura do processo e mais distante da análise final, mais crítica é a etapa, pois erros na base tendem a ser notados só posteriormente encarecendo suas correções.\n"
      ],
      "metadata": {
        "id": "6debZ04TY3rj"
      }
    }
  ]
}